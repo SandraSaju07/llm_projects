{
 "cells": [
  {
   "cell_type": "code",
   "execution_count": null,
   "id": "6801fda6-2c20-4a5c-9b48-da75221a3397",
   "metadata": {},
   "outputs": [],
   "source": [
    "import pandas as pd\n",
    "import numpy as np\n",
    "from sklearn.metrics import roc_auc_score, f1_score, hamming_loss\n",
    "from sklearn.preprocessing import MultiLabelBinarizer\n",
    "import torch\n",
    "from transformers import DistilBertTokenizer, AutoTokenizer\n",
    "from transformers import DistilBertForSequenceClassification, AutoModelForSequenceClassification\n",
    "from transformers import TrainingArguments, Trainer\n",
    "from sklearn.model_selection import train_test_split\n",
    "from torch.utils.data import Dataset\n",
    "from transformers import EvalPrediction\n",
    "import pickle"
   ]
  },
  {
   "cell_type": "code",
   "execution_count": null,
   "id": "e992e8ae-375f-4b08-af9c-fc92f6abc309",
   "metadata": {},
   "outputs": [],
   "source": [
    "data = pd.read_csv('./IMDB-Movie-Data.csv', usecols = [\"Genre\", \"Description\"])\n",
    "\n",
    "data.head()"
   ]
  },
  {
   "cell_type": "code",
   "execution_count": null,
   "id": "6c666b8a-d7b4-4013-a4b8-d72e264afefd",
   "metadata": {},
   "outputs": [],
   "source": [
    "data.shape"
   ]
  },
  {
   "cell_type": "code",
   "execution_count": null,
   "id": "be4f4ba1-573b-4cc0-8f82-3e1af54c0589",
   "metadata": {},
   "outputs": [],
   "source": [
    "data.info()"
   ]
  },
  {
   "cell_type": "code",
   "execution_count": null,
   "id": "90d4eef4-908a-471d-b3cf-d4b6e52abc0b",
   "metadata": {},
   "outputs": [],
   "source": [
    "data.duplicated().sum()"
   ]
  },
  {
   "cell_type": "code",
   "execution_count": null,
   "id": "50fbbf9e-d401-4a3c-86db-3c4187e9d81d",
   "metadata": {},
   "outputs": [],
   "source": [
    "data['Description'].str.len().plot.hist(bins=50)"
   ]
  },
  {
   "cell_type": "code",
   "execution_count": null,
   "id": "69a2ba22-0c0a-4875-b220-95733f50e9de",
   "metadata": {},
   "outputs": [],
   "source": [
    "data['Genre'] = data['Genre'].str.split(',')\n",
    "\n",
    "data.head()"
   ]
  },
  {
   "cell_type": "code",
   "execution_count": null,
   "id": "33385dec-ea1a-4c5c-b5d6-6c6206dbf2ff",
   "metadata": {
    "scrolled": true
   },
   "outputs": [],
   "source": [
    "genres = [g for genre in data['Genre'] for g in genre]\n",
    "\n",
    "genres"
   ]
  },
  {
   "cell_type": "code",
   "execution_count": null,
   "id": "3b1d2cd9-e68d-4c42-bb93-e44800e9dbed",
   "metadata": {},
   "outputs": [],
   "source": [
    "genre_counts = pd.Series(genres).value_counts()\n",
    "\n",
    "genre_counts"
   ]
  },
  {
   "cell_type": "markdown",
   "id": "0a1ef5a6-38bc-450c-bfa1-cd3c440cb2e1",
   "metadata": {},
   "source": [
    "### Label Encoder"
   ]
  },
  {
   "cell_type": "code",
   "execution_count": null,
   "id": "f544f624-9063-4d0d-b49d-7a24b5b8fe63",
   "metadata": {},
   "outputs": [],
   "source": [
    "multilabel = MultiLabelBinarizer()"
   ]
  },
  {
   "cell_type": "code",
   "execution_count": null,
   "id": "8a349233-53df-45b7-8c86-0e0953e36f81",
   "metadata": {},
   "outputs": [],
   "source": [
    "labels = multilabel.fit_transform(data['Genre']).astype('float32')\n",
    "\n",
    "labels"
   ]
  },
  {
   "cell_type": "code",
   "execution_count": null,
   "id": "a74833d7-609c-4f9c-a9ac-5af12c65db91",
   "metadata": {
    "scrolled": true
   },
   "outputs": [],
   "source": [
    "texts = data['Description'].tolist()\n",
    "\n",
    "texts"
   ]
  },
  {
   "cell_type": "markdown",
   "id": "018154d5-fb78-424e-9260-ee0bb46ec653",
   "metadata": {},
   "source": [
    "### Model Building"
   ]
  },
  {
   "cell_type": "code",
   "execution_count": null,
   "id": "c36ade77-fd82-49c4-a498-f4b75228ae3c",
   "metadata": {},
   "outputs": [],
   "source": [
    "train_texts, val_texts, train_labels, val_labels = train_test_split(texts, labels, test_size = 0.2,\n",
    "                                                                      random_state = 42)"
   ]
  },
  {
   "cell_type": "code",
   "execution_count": null,
   "id": "e98227ae-faa3-43db-96c1-7cdcab153e0d",
   "metadata": {},
   "outputs": [],
   "source": [
    "model_ckpt = 'distilbert-base-uncased'\n",
    "tokenizer = DistilBertTokenizer.from_pretrained(model_ckpt)\n",
    "model = DistilBertForSequenceClassification.from_pretrained(model_ckpt, num_labels = len(labels[0]),\n",
    "                                            problem_type = 'multi_label_classification')"
   ]
  },
  {
   "cell_type": "code",
   "execution_count": null,
   "id": "50be6d1c-fdcc-44ed-95d3-d36507a2be21",
   "metadata": {},
   "outputs": [],
   "source": [
    "# Building Custom Dataset\n",
    "class CustomDataset(Dataset):\n",
    "    def __init__(self, texts, labels, tokenizer, max_len = 128):\n",
    "        self.texts = texts\n",
    "        self.labels = labels\n",
    "        self.tokenizer = tokenizer\n",
    "        self.max_len = max_len\n",
    "\n",
    "    def __len__(self):\n",
    "        return len(self.texts)\n",
    "        \n",
    "    def __getitem__(self, idx):\n",
    "        text = str(self.texts[idx])\n",
    "        label = torch.tensor(self.labels[idx])\n",
    "\n",
    "        encoding = self.tokenizer(text, truncation = True, padding = \"max_length\", max_length = self.max_len, return_tensors = 'pt')\n",
    "\n",
    "        return {\n",
    "            'input_ids': encoding['input_ids'].flatten(),\n",
    "            'attention_mask': encoding['attention_mask'].flatten(),\n",
    "            'labels': label\n",
    "        }"
   ]
  },
  {
   "cell_type": "code",
   "execution_count": null,
   "id": "555d86be-1eb9-423b-aeb1-3b0011e57f4a",
   "metadata": {},
   "outputs": [],
   "source": [
    "train_dataset = CustomDataset(train_texts, train_labels, tokenizer)\n",
    "val_dataset = CustomDataset(val_texts, val_labels, tokenizer)"
   ]
  },
  {
   "cell_type": "code",
   "execution_count": null,
   "id": "3589f1b9-d22e-45b0-8d8d-e9a47b39a42d",
   "metadata": {},
   "outputs": [],
   "source": [
    "train_dataset[0]"
   ]
  },
  {
   "cell_type": "code",
   "execution_count": null,
   "id": "9e536ddc-a08d-4030-8872-e142e877cf33",
   "metadata": {},
   "outputs": [],
   "source": [
    "val_dataset[0]"
   ]
  },
  {
   "cell_type": "markdown",
   "id": "21953079-24a7-4346-85e0-36cb7ce9aedd",
   "metadata": {},
   "source": [
    "### Multi-Label Classification Evaluation Metrics"
   ]
  },
  {
   "cell_type": "code",
   "execution_count": null,
   "id": "a21928fc-9076-4e0b-8694-f67119203046",
   "metadata": {},
   "outputs": [],
   "source": [
    "def multi_labels_metrics(predictions, labels, threshold=0.3):\n",
    "  sigmoid = torch.nn.Sigmoid()\n",
    "  probs = sigmoid(torch.Tensor(predictions))\n",
    "\n",
    "  y_pred = np.zeros(probs.shape)\n",
    "  y_pred[np.where(probs>=threshold)] = 1\n",
    "  y_true = labels\n",
    "\n",
    "  f1 = f1_score(y_true, y_pred, average = 'macro')\n",
    "  roc_auc = roc_auc_score(y_true, y_pred, average = 'macro')\n",
    "  hamming = hamming_loss(y_true, y_pred)\n",
    "\n",
    "  metrics = {\n",
    "      \"roc_auc\": roc_auc,\n",
    "      \"hamming_loss\": hamming,\n",
    "      \"f1\": f1\n",
    "  }\n",
    "\n",
    "  return metrics\n",
    "\n",
    "def compute_metrics(p:EvalPrediction):\n",
    "  preds = p.predictions[0] if isinstance(p.predictions, tuple) else p.predictions\n",
    "\n",
    "  result = multi_labels_metrics(predictions=preds,\n",
    "                                labels=p.label_ids)\n",
    "\n",
    "  return result"
   ]
  },
  {
   "cell_type": "code",
   "execution_count": null,
   "id": "a9889f53-c385-495b-ab49-7a210b56926f",
   "metadata": {},
   "outputs": [],
   "source": [
    "args = TrainingArguments(\n",
    "    per_device_train_batch_size=8,\n",
    "    per_device_eval_batch_size=8,\n",
    "    output_dir = './results',\n",
    "    num_train_epochs=5,\n",
    "    save_steps=1000,\n",
    "    save_total_limit=2\n",
    ")\n",
    "\n",
    "trainer = Trainer(model=model,\n",
    "                  args=args,\n",
    "                  train_dataset=train_dataset,\n",
    "                  eval_dataset = val_dataset,\n",
    "                  compute_metrics=compute_metrics)"
   ]
  },
  {
   "cell_type": "code",
   "execution_count": null,
   "id": "43ac2785-4d1d-49ba-85d1-c809b8f502bc",
   "metadata": {},
   "outputs": [],
   "source": [
    "trainer.train()"
   ]
  },
  {
   "cell_type": "code",
   "execution_count": null,
   "id": "5ab72ad6-47c6-48a7-b562-f9210d48a8da",
   "metadata": {},
   "outputs": [],
   "source": [
    "trainer.evaluate()"
   ]
  },
  {
   "cell_type": "code",
   "execution_count": null,
   "id": "3bec29fc-6e6e-4ae8-8d59-2751add5d2ab",
   "metadata": {},
   "outputs": [],
   "source": [
    "trainer.save_model('./distilbert_finetuned_multilabel')"
   ]
  },
  {
   "cell_type": "code",
   "execution_count": null,
   "id": "861dd82f-7798-4a4b-9615-335f61041503",
   "metadata": {},
   "outputs": [],
   "source": [
    "with open(\"multi-label_binarizer.pkl\", \"wb\") as f:\n",
    "    pickle.dump(multilabel, f)"
   ]
  },
  {
   "cell_type": "markdown",
   "id": "d257f813-5ae6-4dee-979b-f5157e959f7f",
   "metadata": {},
   "source": [
    "### Predictions"
   ]
  },
  {
   "cell_type": "code",
   "execution_count": null,
   "id": "49335130-c1e7-44d9-a1c4-0ba0b1ec486e",
   "metadata": {},
   "outputs": [],
   "source": [
    "text = \"Low-level FBI agent Peter Sutherland works in the basement of the White House manning a phone that never rings - until the night it does, propelling him into a conspiracy that leads all the way to the Oval Office\"\n",
    "\n",
    "encoding = tokenizer(text, return_tensors = 'pt')\n",
    "encoding"
   ]
  },
  {
   "cell_type": "code",
   "execution_count": null,
   "id": "c2ba4be0-ef8c-4964-8fd5-59b167251825",
   "metadata": {},
   "outputs": [],
   "source": [
    "encoding.to(trainer.model.device)\n",
    "outputs = trainer.model(**encoding)\n",
    "\n",
    "outputs"
   ]
  },
  {
   "cell_type": "code",
   "execution_count": null,
   "id": "455c4a35-2244-43a4-b8bc-e2379ecc55fd",
   "metadata": {},
   "outputs": [],
   "source": [
    "sigmoid = torch.nn.Sigmoid()\n",
    "probs = sigmoid(outputs.logits[0].cpu())\n",
    "\n",
    "probs"
   ]
  },
  {
   "cell_type": "code",
   "execution_count": null,
   "id": "efc70829-c9f5-463d-8d68-bd3aa4d47bdb",
   "metadata": {},
   "outputs": [],
   "source": [
    "preds = np.zeros(probs.shape)\n",
    "\n",
    "preds"
   ]
  },
  {
   "cell_type": "code",
   "execution_count": null,
   "id": "166f4de8-3433-4224-8570-851d456c69b1",
   "metadata": {},
   "outputs": [],
   "source": [
    "preds[np.where(probs >= 0.3)] = 1\n",
    "\n",
    "preds"
   ]
  },
  {
   "cell_type": "code",
   "execution_count": null,
   "id": "ef656c1a-5cd4-4caf-8d0e-bdc40f77dc4f",
   "metadata": {},
   "outputs": [],
   "source": [
    "multilabel.classes_"
   ]
  },
  {
   "cell_type": "code",
   "execution_count": null,
   "id": "80d39706-3e1e-42d2-bdf4-f35ab5a00a20",
   "metadata": {},
   "outputs": [],
   "source": [
    "multilabel.inverse_transform(preds.reshape(1, -1))"
   ]
  },
  {
   "cell_type": "code",
   "execution_count": null,
   "id": "312995c3-2864-486c-9478-c01552aad9be",
   "metadata": {},
   "outputs": [],
   "source": []
  }
 ],
 "metadata": {
  "kernelspec": {
   "display_name": "Python 3 (ipykernel)",
   "language": "python",
   "name": "python3"
  },
  "language_info": {
   "codemirror_mode": {
    "name": "ipython",
    "version": 3
   },
   "file_extension": ".py",
   "mimetype": "text/x-python",
   "name": "python",
   "nbconvert_exporter": "python",
   "pygments_lexer": "ipython3",
   "version": "3.12.8"
  }
 },
 "nbformat": 4,
 "nbformat_minor": 5
}
