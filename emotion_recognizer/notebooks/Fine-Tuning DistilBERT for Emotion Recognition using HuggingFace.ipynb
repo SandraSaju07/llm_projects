{
 "cells": [
  {
   "cell_type": "code",
   "execution_count": null,
   "id": "8b0e46c8-9980-40b2-83ab-c47d4b82900c",
   "metadata": {},
   "outputs": [],
   "source": [
    "import pandas as pd\n",
    "from datasets import load_dataset\n",
    "import matplotlib.pyplot as plt\n",
    "import numpy as np\n",
    "import torch\n",
    "from transformers import AutoTokenizer, AutoModel, AutoModelForSequenceClassification, TrainingArguments, Trainer\n",
    "from sklearn.metrics import accuracy_score, f1_score, classification_report"
   ]
  },
  {
   "cell_type": "code",
   "execution_count": null,
   "id": "06a5b307-ca1b-4492-aa78-933a1a6a4536",
   "metadata": {},
   "outputs": [],
   "source": [
    "emotion = load_dataset('dair-ai/emotion')\n",
    "emotion.set_format(type='pandas')\n",
    "\n",
    "emotion"
   ]
  },
  {
   "cell_type": "code",
   "execution_count": null,
   "id": "078a1506-1785-453b-a33b-1cf848ad740a",
   "metadata": {},
   "outputs": [],
   "source": [
    "train = emotion['train'][:]\n",
    "\n",
    "train.head()"
   ]
  },
  {
   "cell_type": "code",
   "execution_count": null,
   "id": "7dece0f0-f07a-4aea-90d2-d48febcd83a7",
   "metadata": {},
   "outputs": [],
   "source": [
    "classes = emotion['train'].features['label'].names\n",
    "\n",
    "classes"
   ]
  },
  {
   "cell_type": "code",
   "execution_count": null,
   "id": "7796a6a8-d942-4935-b073-4921b6dcc12c",
   "metadata": {},
   "outputs": [],
   "source": [
    "train['label_name'] = train['label'].apply(lambda x: classes[x])\n",
    "\n",
    "train.head()"
   ]
  },
  {
   "cell_type": "markdown",
   "id": "913597ba-c019-4a4c-b86a-afb2c3782abe",
   "metadata": {},
   "source": [
    "### Data Analysis"
   ]
  },
  {
   "cell_type": "code",
   "execution_count": null,
   "id": "6472b8dc-173b-4651-9461-d909de7cdc43",
   "metadata": {},
   "outputs": [],
   "source": [
    "label_counts = train['label_name'].value_counts(ascending=True)\n",
    "label_counts.plot.bar()\n",
    "plt.title('Frequency of Classes')\n",
    "plt.show()"
   ]
  },
  {
   "cell_type": "code",
   "execution_count": null,
   "id": "050650a4-d4db-496c-b7fb-363a636125e8",
   "metadata": {},
   "outputs": [],
   "source": [
    "train['Words per Tweet'] = train['text'].str.split().apply(len)\n",
    "\n",
    "train.head()"
   ]
  },
  {
   "cell_type": "code",
   "execution_count": null,
   "id": "e9a1a0ed-863b-4ef2-a5cb-2fe3109f6265",
   "metadata": {},
   "outputs": [],
   "source": [
    "train.boxplot('Words per Tweet', by='label_name')"
   ]
  },
  {
   "cell_type": "markdown",
   "id": "105dafad-4952-46de-9b1f-9c90c4ac97af",
   "metadata": {},
   "source": [
    "### Text to Token Conversion"
   ]
  },
  {
   "cell_type": "code",
   "execution_count": null,
   "id": "ea254c31-49ea-4b70-af15-98e57155c648",
   "metadata": {},
   "outputs": [],
   "source": [
    "model_ckpt = 'distilbert-base-uncased'"
   ]
  },
  {
   "cell_type": "code",
   "execution_count": null,
   "id": "cc826c1c-6200-4967-9f99-79356c3adaad",
   "metadata": {},
   "outputs": [],
   "source": [
    "tokenizer = AutoTokenizer.from_pretrained(model_ckpt)"
   ]
  },
  {
   "cell_type": "code",
   "execution_count": null,
   "id": "92ebd271-e04a-4543-a5a3-e2a5e1a32db9",
   "metadata": {},
   "outputs": [],
   "source": [
    "# Tokenization Example\n",
    "text = \"I love Machine Learning!. Tokenization is awesome\"\n",
    "encoded_text = tokenizer(text)\n",
    "\n",
    "encoded_text"
   ]
  },
  {
   "cell_type": "code",
   "execution_count": null,
   "id": "d90d3352-a0cb-4bb4-9cab-dbc4f123bc04",
   "metadata": {},
   "outputs": [],
   "source": [
    "tokens = tokenizer.convert_ids_to_tokens(encoded_text.input_ids)\n",
    "\n",
    "tokens"
   ]
  },
  {
   "cell_type": "code",
   "execution_count": null,
   "id": "c457fa09-3708-4580-be8b-904bae4a669f",
   "metadata": {},
   "outputs": [],
   "source": [
    "# Total vocab size (trained data token size) and token size limit for the model\n",
    "tokenizer.vocab_size, tokenizer.model_max_length"
   ]
  },
  {
   "cell_type": "markdown",
   "id": "f54af425-4bda-4239-8d50-6096c8bb377c",
   "metadata": {},
   "source": [
    "### Tokenization of the Emotion Data"
   ]
  },
  {
   "cell_type": "code",
   "execution_count": null,
   "id": "b7af60a6-674d-40f6-88fd-594d7aa914ad",
   "metadata": {},
   "outputs": [],
   "source": [
    "emotion.reset_format()\n",
    "\n",
    "emotion"
   ]
  },
  {
   "cell_type": "code",
   "execution_count": null,
   "id": "14dcb701-31f9-4f3f-a607-97430173ad07",
   "metadata": {},
   "outputs": [],
   "source": [
    "def tokenize(batch):\n",
    "    temp = tokenizer(batch['text'], padding = True, truncation = True)\n",
    "    return temp\n",
    "\n",
    "\n",
    "tokenize(emotion['train'][:5])"
   ]
  },
  {
   "cell_type": "code",
   "execution_count": null,
   "id": "da0dd074-748c-45cc-a886-ffc3cf34bae5",
   "metadata": {},
   "outputs": [],
   "source": [
    "emotions_encoded = emotion.map(tokenize, batched = True, batch_size = None)\n",
    "\n",
    "emotions_encoded"
   ]
  },
  {
   "cell_type": "markdown",
   "id": "2f9c295b-0c1b-4dc3-a423-b0ecd139359f",
   "metadata": {},
   "source": [
    "### Model Building"
   ]
  },
  {
   "cell_type": "code",
   "execution_count": null,
   "id": "42811482-59b9-4b15-9ecf-1a76956ced8f",
   "metadata": {},
   "outputs": [],
   "source": [
    "text"
   ]
  },
  {
   "cell_type": "code",
   "execution_count": null,
   "id": "1ceda53c-3cbc-4da1-bfe8-694851d35ba5",
   "metadata": {},
   "outputs": [],
   "source": [
    "inputs = tokenizer(text, return_tensors = 'pt')\n",
    "\n",
    "inputs"
   ]
  },
  {
   "cell_type": "code",
   "execution_count": null,
   "id": "ef84842c-dc96-46ae-8ea5-5986e1200b54",
   "metadata": {},
   "outputs": [],
   "source": [
    "model = AutoModel.from_pretrained(model_ckpt)\n",
    "\n",
    "model"
   ]
  },
  {
   "cell_type": "code",
   "execution_count": null,
   "id": "9e3936ea-1c0a-40b1-ad33-4e0ef35fb923",
   "metadata": {},
   "outputs": [],
   "source": [
    "with torch.no_grad():\n",
    "    outputs = model(**inputs)\n",
    "\n",
    "outputs"
   ]
  },
  {
   "cell_type": "code",
   "execution_count": null,
   "id": "62a6cb07-64f3-4a19-a8d9-b4f0e414e209",
   "metadata": {},
   "outputs": [],
   "source": [
    "last_hidden_states = outputs.last_hidden_state\n",
    "\n",
    "last_hidden_states"
   ]
  },
  {
   "cell_type": "code",
   "execution_count": null,
   "id": "ea0abeb2-d27e-4087-a1ee-1d784722cab9",
   "metadata": {},
   "outputs": [],
   "source": [
    "last_hidden_states.shape"
   ]
  },
  {
   "cell_type": "markdown",
   "id": "f9ef5a5c-f423-421b-a1a0-c8e84abb81c0",
   "metadata": {},
   "source": [
    "### Fine Tuning Transformers"
   ]
  },
  {
   "cell_type": "code",
   "execution_count": null,
   "id": "4cf758ab-c86d-4b41-aa42-c654e57b65fa",
   "metadata": {},
   "outputs": [],
   "source": [
    "num_labels = len(classes)\n",
    "\n",
    "num_labels"
   ]
  },
  {
   "cell_type": "code",
   "execution_count": null,
   "id": "81d869e3-c8ac-499e-b8d4-9d7c26a8d41e",
   "metadata": {},
   "outputs": [],
   "source": [
    "device = torch.device(\"cuda\" if torch.cuda.is_available() else \"cpu\")\n",
    "\n",
    "device"
   ]
  },
  {
   "cell_type": "code",
   "execution_count": null,
   "id": "3d991ef5-fc92-4ef9-97b4-9412b8d9246d",
   "metadata": {},
   "outputs": [],
   "source": [
    "model = AutoModelForSequenceClassification.from_pretrained(model_ckpt, num_labels = num_labels).to(device)\n",
    "\n",
    "model"
   ]
  },
  {
   "cell_type": "code",
   "execution_count": null,
   "id": "46f8b8df-0c33-412a-8708-8992123b52c7",
   "metadata": {},
   "outputs": [],
   "source": [
    "batch_size = 64\n",
    "model_name = 'distilbert-finetuned-emotion'"
   ]
  },
  {
   "cell_type": "code",
   "execution_count": null,
   "id": "8e767a3e-1245-4669-b4a1-6df6bc8b8d3a",
   "metadata": {},
   "outputs": [],
   "source": [
    "training_args = TrainingArguments(output_dir = \"./model/\" + model_name,\n",
    "                                  num_train_epochs = 2,\n",
    "                                  learning_rate = 2e-5,\n",
    "                                  per_device_eval_batch_size = batch_size,\n",
    "                                  per_device_train_batch_size = batch_size,\n",
    "                                  weight_decay = 0.01,\n",
    "                                  eval_strategy = 'epoch',\n",
    "                                  disable_tqdm = False)"
   ]
  },
  {
   "cell_type": "code",
   "execution_count": null,
   "id": "2df3d4d8-e153-4bc9-8ea8-391d88148297",
   "metadata": {},
   "outputs": [],
   "source": [
    "def compute_metrics(pred):\n",
    "    labels = pred.label_ids\n",
    "    preds = pred.predictions.argmax(-1)\n",
    "    f1 = f1_score(labels, preds, average = 'weighted')\n",
    "    acc = accuracy_score(labels, preds)\n",
    "    return {\"Accuracy\": acc, \"F1 Score\": f1}"
   ]
  },
  {
   "cell_type": "code",
   "execution_count": null,
   "id": "fa156761-bba3-4868-8aa8-6d00d4ba80ed",
   "metadata": {},
   "outputs": [],
   "source": [
    "trainer = Trainer(model = model,\n",
    "                  args = training_args,\n",
    "                  compute_metrics = compute_metrics,\n",
    "                  train_dataset = emotions_encoded['train'],\n",
    "                  eval_dataset = emotions_encoded['validation'],\n",
    "                  tokenizer = tokenizer)"
   ]
  },
  {
   "cell_type": "code",
   "execution_count": null,
   "id": "57a5dfd6-b64e-41ff-aa06-754fcecfb511",
   "metadata": {},
   "outputs": [],
   "source": [
    "trainer.train()"
   ]
  },
  {
   "cell_type": "code",
   "execution_count": null,
   "id": "b9bad07a-6e65-42a8-ac1d-ae1feb33fd22",
   "metadata": {},
   "outputs": [],
   "source": [
    "pred_outputs = trainer.predict(emotions_encoded['test'])\n",
    "pred_outputs.metrics"
   ]
  },
  {
   "cell_type": "code",
   "execution_count": null,
   "id": "93cd16e3-9ba4-4429-9c90-efaa622fc56e",
   "metadata": {},
   "outputs": [],
   "source": [
    "pred_outputs"
   ]
  },
  {
   "cell_type": "code",
   "execution_count": null,
   "id": "75cd6fdd-b4ca-4f54-b7da-8332b65fa71e",
   "metadata": {},
   "outputs": [],
   "source": [
    "y_preds = np.argmax(pred_outputs.predictions, axis = 1)\n",
    "\n",
    "y_preds"
   ]
  },
  {
   "cell_type": "code",
   "execution_count": null,
   "id": "ddfe3a47-6711-4070-8a98-e88381ee418d",
   "metadata": {
    "scrolled": true
   },
   "outputs": [],
   "source": [
    "y_true = emotions_encoded['test'][:]['label']\n",
    "\n",
    "y_true"
   ]
  },
  {
   "cell_type": "code",
   "execution_count": null,
   "id": "99c9fd13-c14d-462d-aa6e-0371b4369c44",
   "metadata": {},
   "outputs": [],
   "source": [
    "print(classes)\n",
    "print(classification_report(y_true, y_preds))"
   ]
  },
  {
   "cell_type": "code",
   "execution_count": null,
   "id": "a7db5e8d-1e6a-44d4-8fab-3d48c117a3af",
   "metadata": {},
   "outputs": [],
   "source": [
    "label_counts"
   ]
  },
  {
   "cell_type": "code",
   "execution_count": null,
   "id": "1019ac44-5770-4160-b351-2bc8e6b38bcc",
   "metadata": {},
   "outputs": [],
   "source": [
    "text = 'I hate you'\n",
    "if torch.backends.mps.is_available():\n",
    "    device = torch.device(\"mps\")\n",
    "input_encoded = tokenizer(text, return_tensors = 'pt').to(device)\n",
    "with torch.no_grad():\n",
    "    outputs = model(**input_encoded)\n",
    "\n",
    "outputs"
   ]
  },
  {
   "cell_type": "code",
   "execution_count": null,
   "id": "0486da98-7f04-4086-b23a-76d17b333031",
   "metadata": {},
   "outputs": [],
   "source": [
    "logits = outputs.logits\n",
    "pred = torch.argmax(logits, dim = 1).item()\n",
    "\n",
    "pred, classes[pred]"
   ]
  },
  {
   "cell_type": "code",
   "execution_count": null,
   "id": "e1b6bd5b-b2d0-450d-969b-a12509c9015f",
   "metadata": {},
   "outputs": [],
   "source": []
  }
 ],
 "metadata": {
  "kernelspec": {
   "display_name": "Python 3 (ipykernel)",
   "language": "python",
   "name": "python3"
  },
  "language_info": {
   "codemirror_mode": {
    "name": "ipython",
    "version": 3
   },
   "file_extension": ".py",
   "mimetype": "text/x-python",
   "name": "python",
   "nbconvert_exporter": "python",
   "pygments_lexer": "ipython3",
   "version": "3.12.8"
  }
 },
 "nbformat": 4,
 "nbformat_minor": 5
}
